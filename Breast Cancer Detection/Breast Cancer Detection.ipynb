{
 "cells": [
  {
   "cell_type": "markdown",
   "metadata": {},
   "source": [
    "# Problem Statement and Brief Summary"
   ]
  },
  {
   "cell_type": "markdown",
   "metadata": {},
   "source": [
    "The project aims to help doctor to predict breast cancer given the biopsied breast cells\n",
    "- Given the information about the breast cells of a new patient, the doctor can consult the prediction to decide whether the patient need further examination"
   ]
  },
  {
   "cell_type": "markdown",
   "metadata": {},
   "source": [
    "# Data Ingestion and EDA"
   ]
  },
  {
   "cell_type": "code",
   "execution_count": 1,
   "metadata": {},
   "outputs": [],
   "source": [
    "import pandas as pd\n",
    "import numpy as np"
   ]
  },
  {
   "cell_type": "code",
   "execution_count": 2,
   "metadata": {},
   "outputs": [
    {
     "data": {
      "text/html": [
       "<div>\n",
       "<style scoped>\n",
       "    .dataframe tbody tr th:only-of-type {\n",
       "        vertical-align: middle;\n",
       "    }\n",
       "\n",
       "    .dataframe tbody tr th {\n",
       "        vertical-align: top;\n",
       "    }\n",
       "\n",
       "    .dataframe thead th {\n",
       "        text-align: right;\n",
       "    }\n",
       "</style>\n",
       "<table border=\"1\" class=\"dataframe\">\n",
       "  <thead>\n",
       "    <tr style=\"text-align: right;\">\n",
       "      <th></th>\n",
       "      <th>ID</th>\n",
       "      <th>Clump Thickness</th>\n",
       "      <th>Uniformity of Cell Size</th>\n",
       "      <th>Uniformity of Cell Shape</th>\n",
       "      <th>Marginal Adhesion</th>\n",
       "      <th>Single Epithelial Cell Size</th>\n",
       "      <th>Bare Nuclei</th>\n",
       "      <th>Bland Chromatin</th>\n",
       "      <th>Normal Nucleoli</th>\n",
       "      <th>Mitoses</th>\n",
       "      <th>Class</th>\n",
       "    </tr>\n",
       "    <tr>\n",
       "      <th>Index</th>\n",
       "      <th></th>\n",
       "      <th></th>\n",
       "      <th></th>\n",
       "      <th></th>\n",
       "      <th></th>\n",
       "      <th></th>\n",
       "      <th></th>\n",
       "      <th></th>\n",
       "      <th></th>\n",
       "      <th></th>\n",
       "      <th></th>\n",
       "    </tr>\n",
       "  </thead>\n",
       "  <tbody>\n",
       "    <tr>\n",
       "      <th>15850</th>\n",
       "      <td>1169049</td>\n",
       "      <td>7</td>\n",
       "      <td>3</td>\n",
       "      <td>4</td>\n",
       "      <td>4</td>\n",
       "      <td>3</td>\n",
       "      <td>3</td>\n",
       "      <td>3</td>\n",
       "      <td>2</td>\n",
       "      <td>7</td>\n",
       "      <td>4</td>\n",
       "    </tr>\n",
       "    <tr>\n",
       "      <th>15851</th>\n",
       "      <td>1076352</td>\n",
       "      <td>3</td>\n",
       "      <td>6</td>\n",
       "      <td>4</td>\n",
       "      <td>10</td>\n",
       "      <td>3</td>\n",
       "      <td>3</td>\n",
       "      <td>3</td>\n",
       "      <td>4</td>\n",
       "      <td>1</td>\n",
       "      <td>4</td>\n",
       "    </tr>\n",
       "    <tr>\n",
       "      <th>15852</th>\n",
       "      <td>1107684</td>\n",
       "      <td>6</td>\n",
       "      <td>10</td>\n",
       "      <td>5</td>\n",
       "      <td>5</td>\n",
       "      <td>4</td>\n",
       "      <td>10</td>\n",
       "      <td>6</td>\n",
       "      <td>10</td>\n",
       "      <td>1</td>\n",
       "      <td>4</td>\n",
       "    </tr>\n",
       "    <tr>\n",
       "      <th>15853</th>\n",
       "      <td>1111249</td>\n",
       "      <td>10</td>\n",
       "      <td>6</td>\n",
       "      <td>6</td>\n",
       "      <td>3</td>\n",
       "      <td>4</td>\n",
       "      <td>5</td>\n",
       "      <td>3</td>\n",
       "      <td>6</td>\n",
       "      <td>1</td>\n",
       "      <td>4</td>\n",
       "    </tr>\n",
       "    <tr>\n",
       "      <th>15854</th>\n",
       "      <td>1106829</td>\n",
       "      <td>7</td>\n",
       "      <td>8</td>\n",
       "      <td>7</td>\n",
       "      <td>2</td>\n",
       "      <td>4</td>\n",
       "      <td>8</td>\n",
       "      <td>3</td>\n",
       "      <td>8</td>\n",
       "      <td>2</td>\n",
       "      <td>4</td>\n",
       "    </tr>\n",
       "  </tbody>\n",
       "</table>\n",
       "</div>"
      ],
      "text/plain": [
       "            ID  Clump Thickness Uniformity of Cell Size  \\\n",
       "Index                                                     \n",
       "15850  1169049                7                       3   \n",
       "15851  1076352                3                       6   \n",
       "15852  1107684                6                      10   \n",
       "15853  1111249               10                       6   \n",
       "15854  1106829                7                       8   \n",
       "\n",
       "      Uniformity of Cell Shape Marginal Adhesion Single Epithelial Cell Size  \\\n",
       "Index                                                                          \n",
       "15850                        4                 4                           3   \n",
       "15851                        4                10                           3   \n",
       "15852                        5                 5                           4   \n",
       "15853                        6                 3                           4   \n",
       "15854                        7                 2                           4   \n",
       "\n",
       "      Bare Nuclei Bland Chromatin Normal Nucleoli Mitoses Class  \n",
       "Index                                                            \n",
       "15850           3               3               2       7     4  \n",
       "15851           3               3               4       1     4  \n",
       "15852          10               6              10       1     4  \n",
       "15853           5               3               6       1     4  \n",
       "15854           8               3               8       2     4  "
      ]
     },
     "execution_count": 2,
     "metadata": {},
     "output_type": "execute_result"
    }
   ],
   "source": [
    "# Loading the dataset\n",
    "df = pd.read_csv('d:/git/Data-Challenges/Breast Cancer Detection/Copy of breast-cancer-wisconsin.txt', index_col='Index')\n",
    "df.tail()"
   ]
  },
  {
   "cell_type": "code",
   "execution_count": 3,
   "metadata": {},
   "outputs": [
    {
     "name": "stdout",
     "output_type": "stream",
     "text": [
      "<class 'pandas.core.frame.DataFrame'>\n",
      "Int64Index: 15855 entries, 0 to 15854\n",
      "Data columns (total 11 columns):\n",
      " #   Column                       Non-Null Count  Dtype \n",
      "---  ------                       --------------  ----- \n",
      " 0   ID                           15855 non-null  int64 \n",
      " 1   Clump Thickness              15855 non-null  int64 \n",
      " 2   Uniformity of Cell Size      15827 non-null  object\n",
      " 3   Uniformity of Cell Shape     15827 non-null  object\n",
      " 4   Marginal Adhesion            15827 non-null  object\n",
      " 5   Single Epithelial Cell Size  15827 non-null  object\n",
      " 6   Bare Nuclei                  15827 non-null  object\n",
      " 7   Bland Chromatin              15827 non-null  object\n",
      " 8   Normal Nucleoli              15827 non-null  object\n",
      " 9   Mitoses                      15827 non-null  object\n",
      " 10  Class                        15827 non-null  object\n",
      "dtypes: int64(2), object(9)\n",
      "memory usage: 1.5+ MB\n"
     ]
    }
   ],
   "source": [
    "# Checking the data type of columns\n",
    "df.info()"
   ]
  },
  {
   "cell_type": "code",
   "execution_count": 4,
   "metadata": {},
   "outputs": [],
   "source": [
    "# There are many columns with object type, let coerce non-numeric to NA\n",
    "df = df.apply(lambda x: pd.to_numeric(x,errors='coerce') if x.dtype=='object' else x)"
   ]
  },
  {
   "cell_type": "code",
   "execution_count": 5,
   "metadata": {},
   "outputs": [
    {
     "data": {
      "text/plain": [
       "4.0     15164\n",
       "2.0       456\n",
       "40.0      151\n",
       "NaN        79\n",
       "20.0        5\n",
       "Name: Class, dtype: int64"
      ]
     },
     "execution_count": 5,
     "metadata": {},
     "output_type": "execute_result"
    }
   ],
   "source": [
    "# Checking the distribution of classification\n",
    "df.Class.value_counts(dropna=False)"
   ]
  },
  {
   "cell_type": "markdown",
   "metadata": {},
   "source": [
    "There are two types of class which are '4' and '2'. It seems like many values encoded wrongly as 40 and 20. Let correct these classes"
   ]
  },
  {
   "cell_type": "code",
   "execution_count": 6,
   "metadata": {},
   "outputs": [],
   "source": [
    "# Replace 4 and 2 where class is 40 or 20\n",
    "df.loc[df['Class']==40, 'Class'] = 4\n",
    "df.loc[df['Class']==20, 'Class'] = 2"
   ]
  },
  {
   "cell_type": "code",
   "execution_count": 7,
   "metadata": {},
   "outputs": [],
   "source": [
    "# And replace class where 4=1 and 2=0 to indicate a detection of breast cancer\n",
    "df.loc[df['Class']==4, 'Class'] = 1\n",
    "df.loc[df['Class']==2, 'Class'] = 0"
   ]
  },
  {
   "cell_type": "code",
   "execution_count": 8,
   "metadata": {},
   "outputs": [
    {
     "data": {
      "text/plain": [
       "(15776, 11)"
      ]
     },
     "execution_count": 8,
     "metadata": {},
     "output_type": "execute_result"
    }
   ],
   "source": [
    "# Regarding 79 cases of NA in classification which we don't know the true class, it is not reasonable to impute these missing\n",
    "# Let drop missing classes\n",
    "df.dropna(subset=['Class'], inplace=True)\n",
    "df.shape"
   ]
  },
  {
   "cell_type": "code",
   "execution_count": 9,
   "metadata": {},
   "outputs": [],
   "source": [
    "# The column ID will not help to predict cancer, let drop it\n",
    "df.drop('ID', inplace=True, axis=1)"
   ]
  },
  {
   "cell_type": "code",
   "execution_count": 10,
   "metadata": {},
   "outputs": [
    {
     "data": {
      "text/html": [
       "<div>\n",
       "<style scoped>\n",
       "    .dataframe tbody tr th:only-of-type {\n",
       "        vertical-align: middle;\n",
       "    }\n",
       "\n",
       "    .dataframe tbody tr th {\n",
       "        vertical-align: top;\n",
       "    }\n",
       "\n",
       "    .dataframe thead th {\n",
       "        text-align: right;\n",
       "    }\n",
       "</style>\n",
       "<table border=\"1\" class=\"dataframe\">\n",
       "  <thead>\n",
       "    <tr style=\"text-align: right;\">\n",
       "      <th></th>\n",
       "      <th>Clump Thickness</th>\n",
       "      <th>Uniformity of Cell Size</th>\n",
       "      <th>Uniformity of Cell Shape</th>\n",
       "      <th>Marginal Adhesion</th>\n",
       "      <th>Single Epithelial Cell Size</th>\n",
       "      <th>Bare Nuclei</th>\n",
       "      <th>Bland Chromatin</th>\n",
       "      <th>Normal Nucleoli</th>\n",
       "      <th>Mitoses</th>\n",
       "      <th>Class</th>\n",
       "    </tr>\n",
       "  </thead>\n",
       "  <tbody>\n",
       "    <tr>\n",
       "      <th>count</th>\n",
       "      <td>15776.000000</td>\n",
       "      <td>15776.000000</td>\n",
       "      <td>15776.000000</td>\n",
       "      <td>15776.000000</td>\n",
       "      <td>15776.000000</td>\n",
       "      <td>15760.000000</td>\n",
       "      <td>15776.000000</td>\n",
       "      <td>15776.000000</td>\n",
       "      <td>15776.000000</td>\n",
       "      <td>15776.000000</td>\n",
       "    </tr>\n",
       "    <tr>\n",
       "      <th>mean</th>\n",
       "      <td>8.257987</td>\n",
       "      <td>7.475849</td>\n",
       "      <td>6.091405</td>\n",
       "      <td>5.489351</td>\n",
       "      <td>4.597807</td>\n",
       "      <td>7.004822</td>\n",
       "      <td>5.019397</td>\n",
       "      <td>5.406440</td>\n",
       "      <td>1.829361</td>\n",
       "      <td>0.970778</td>\n",
       "    </tr>\n",
       "    <tr>\n",
       "      <th>std</th>\n",
       "      <td>7.374578</td>\n",
       "      <td>6.800880</td>\n",
       "      <td>5.523121</td>\n",
       "      <td>6.109255</td>\n",
       "      <td>4.832097</td>\n",
       "      <td>7.058168</td>\n",
       "      <td>4.856222</td>\n",
       "      <td>5.874417</td>\n",
       "      <td>2.857843</td>\n",
       "      <td>0.168432</td>\n",
       "    </tr>\n",
       "    <tr>\n",
       "      <th>min</th>\n",
       "      <td>1.000000</td>\n",
       "      <td>1.000000</td>\n",
       "      <td>1.000000</td>\n",
       "      <td>1.000000</td>\n",
       "      <td>1.000000</td>\n",
       "      <td>1.000000</td>\n",
       "      <td>1.000000</td>\n",
       "      <td>1.000000</td>\n",
       "      <td>1.000000</td>\n",
       "      <td>0.000000</td>\n",
       "    </tr>\n",
       "    <tr>\n",
       "      <th>25%</th>\n",
       "      <td>7.000000</td>\n",
       "      <td>5.000000</td>\n",
       "      <td>4.000000</td>\n",
       "      <td>3.000000</td>\n",
       "      <td>3.000000</td>\n",
       "      <td>3.000000</td>\n",
       "      <td>3.000000</td>\n",
       "      <td>3.000000</td>\n",
       "      <td>1.000000</td>\n",
       "      <td>1.000000</td>\n",
       "    </tr>\n",
       "    <tr>\n",
       "      <th>50%</th>\n",
       "      <td>8.000000</td>\n",
       "      <td>6.000000</td>\n",
       "      <td>5.000000</td>\n",
       "      <td>4.000000</td>\n",
       "      <td>4.000000</td>\n",
       "      <td>8.000000</td>\n",
       "      <td>4.000000</td>\n",
       "      <td>5.000000</td>\n",
       "      <td>1.000000</td>\n",
       "      <td>1.000000</td>\n",
       "    </tr>\n",
       "    <tr>\n",
       "      <th>75%</th>\n",
       "      <td>10.000000</td>\n",
       "      <td>10.000000</td>\n",
       "      <td>7.000000</td>\n",
       "      <td>7.000000</td>\n",
       "      <td>4.000000</td>\n",
       "      <td>10.000000</td>\n",
       "      <td>7.000000</td>\n",
       "      <td>8.000000</td>\n",
       "      <td>2.000000</td>\n",
       "      <td>1.000000</td>\n",
       "    </tr>\n",
       "    <tr>\n",
       "      <th>max</th>\n",
       "      <td>100.000000</td>\n",
       "      <td>100.000000</td>\n",
       "      <td>100.000000</td>\n",
       "      <td>100.000000</td>\n",
       "      <td>100.000000</td>\n",
       "      <td>100.000000</td>\n",
       "      <td>70.000000</td>\n",
       "      <td>100.000000</td>\n",
       "      <td>70.000000</td>\n",
       "      <td>1.000000</td>\n",
       "    </tr>\n",
       "  </tbody>\n",
       "</table>\n",
       "</div>"
      ],
      "text/plain": [
       "       Clump Thickness  Uniformity of Cell Size  Uniformity of Cell Shape  \\\n",
       "count     15776.000000             15776.000000              15776.000000   \n",
       "mean          8.257987                 7.475849                  6.091405   \n",
       "std           7.374578                 6.800880                  5.523121   \n",
       "min           1.000000                 1.000000                  1.000000   \n",
       "25%           7.000000                 5.000000                  4.000000   \n",
       "50%           8.000000                 6.000000                  5.000000   \n",
       "75%          10.000000                10.000000                  7.000000   \n",
       "max         100.000000               100.000000                100.000000   \n",
       "\n",
       "       Marginal Adhesion  Single Epithelial Cell Size   Bare Nuclei  \\\n",
       "count       15776.000000                 15776.000000  15760.000000   \n",
       "mean            5.489351                     4.597807      7.004822   \n",
       "std             6.109255                     4.832097      7.058168   \n",
       "min             1.000000                     1.000000      1.000000   \n",
       "25%             3.000000                     3.000000      3.000000   \n",
       "50%             4.000000                     4.000000      8.000000   \n",
       "75%             7.000000                     4.000000     10.000000   \n",
       "max           100.000000                   100.000000    100.000000   \n",
       "\n",
       "       Bland Chromatin  Normal Nucleoli       Mitoses         Class  \n",
       "count     15776.000000     15776.000000  15776.000000  15776.000000  \n",
       "mean          5.019397         5.406440      1.829361      0.970778  \n",
       "std           4.856222         5.874417      2.857843      0.168432  \n",
       "min           1.000000         1.000000      1.000000      0.000000  \n",
       "25%           3.000000         3.000000      1.000000      1.000000  \n",
       "50%           4.000000         5.000000      1.000000      1.000000  \n",
       "75%           7.000000         8.000000      2.000000      1.000000  \n",
       "max          70.000000       100.000000     70.000000      1.000000  "
      ]
     },
     "execution_count": 10,
     "metadata": {},
     "output_type": "execute_result"
    }
   ],
   "source": [
    "# Next, let see the summary statistics of the data\n",
    "df.describe()"
   ]
  },
  {
   "cell_type": "code",
   "execution_count": 11,
   "metadata": {},
   "outputs": [],
   "source": [
    "# Since the data can only take a value from 1 to 10, any value larger than 10 is error.\n",
    "# Assuming the error is random then we can drop these error rows rather than imputing them\n",
    "df = df[df['Clump Thickness']<=10] "
   ]
  },
  {
   "cell_type": "code",
   "execution_count": 12,
   "metadata": {},
   "outputs": [],
   "source": [
    "df = df[df['Uniformity of Cell Size']<=10]"
   ]
  },
  {
   "cell_type": "code",
   "execution_count": 13,
   "metadata": {},
   "outputs": [
    {
     "data": {
      "text/plain": [
       "Clump Thickness                 0\n",
       "Uniformity of Cell Size         0\n",
       "Uniformity of Cell Shape        0\n",
       "Marginal Adhesion               0\n",
       "Single Epithelial Cell Size     0\n",
       "Bare Nuclei                    16\n",
       "Bland Chromatin                 0\n",
       "Normal Nucleoli                 0\n",
       "Mitoses                         0\n",
       "Class                           0\n",
       "dtype: int64"
      ]
     },
     "execution_count": 13,
     "metadata": {},
     "output_type": "execute_result"
    }
   ],
   "source": [
    "# Checking how many NAs left in the data\n",
    "df.isnull().sum()"
   ]
  },
  {
   "cell_type": "code",
   "execution_count": 14,
   "metadata": {},
   "outputs": [],
   "source": [
    "# Let fill those NAs with Bare Nuclei mean\n",
    "df['Bare Nuclei'].fillna(round(df['Bare Nuclei'].mean(),0), inplace=True)"
   ]
  },
  {
   "cell_type": "code",
   "execution_count": 15,
   "metadata": {},
   "outputs": [
    {
     "data": {
      "text/plain": [
       "Clump Thickness                0\n",
       "Uniformity of Cell Size        0\n",
       "Uniformity of Cell Shape       0\n",
       "Marginal Adhesion              0\n",
       "Single Epithelial Cell Size    0\n",
       "Bare Nuclei                    0\n",
       "Bland Chromatin                0\n",
       "Normal Nucleoli                0\n",
       "Mitoses                        0\n",
       "Class                          0\n",
       "dtype: int64"
      ]
     },
     "execution_count": 15,
     "metadata": {},
     "output_type": "execute_result"
    }
   ],
   "source": [
    "df.isnull().sum()"
   ]
  },
  {
   "cell_type": "code",
   "execution_count": 16,
   "metadata": {},
   "outputs": [
    {
     "data": {
      "text/plain": [
       "<matplotlib.axes._subplots.AxesSubplot at 0x2784093b3c8>"
      ]
     },
     "execution_count": 16,
     "metadata": {},
     "output_type": "execute_result"
    },
    {
     "data": {
      "image/png": "[encoded data removed]",
      "text/plain": [
       "<Figure size 432x288 with 1 Axes>"
      ]
     },
     "metadata": {
      "needs_background": "light"
     },
     "output_type": "display_data"
    }
   ],
   "source": [
    "# Let visulaize the distributio of the final dataset\n",
    "df.boxplot()"
   ]
  },
  {
   "cell_type": "markdown",
   "metadata": {},
   "source": [
    "# Feature Engineer"
   ]
  },
  {
   "cell_type": "code",
   "execution_count": 17,
   "metadata": {},
   "outputs": [
    {
     "data": {
      "text/html": [
       "<div>\n",
       "<style scoped>\n",
       "    .dataframe tbody tr th:only-of-type {\n",
       "        vertical-align: middle;\n",
       "    }\n",
       "\n",
       "    .dataframe tbody tr th {\n",
       "        vertical-align: top;\n",
       "    }\n",
       "\n",
       "    .dataframe thead th {\n",
       "        text-align: right;\n",
       "    }\n",
       "</style>\n",
       "<table border=\"1\" class=\"dataframe\">\n",
       "  <thead>\n",
       "    <tr style=\"text-align: right;\">\n",
       "      <th></th>\n",
       "      <th>Clump Thickness</th>\n",
       "      <th>Uniformity of Cell Size</th>\n",
       "      <th>Uniformity of Cell Shape</th>\n",
       "      <th>Marginal Adhesion</th>\n",
       "      <th>Single Epithelial Cell Size</th>\n",
       "      <th>Bare Nuclei</th>\n",
       "      <th>Bland Chromatin</th>\n",
       "      <th>Normal Nucleoli</th>\n",
       "      <th>Mitoses</th>\n",
       "      <th>Class</th>\n",
       "    </tr>\n",
       "  </thead>\n",
       "  <tbody>\n",
       "    <tr>\n",
       "      <th>Clump Thickness</th>\n",
       "      <td>1.000000</td>\n",
       "      <td>0.057426</td>\n",
       "      <td>0.114786</td>\n",
       "      <td>-0.359549</td>\n",
       "      <td>0.121242</td>\n",
       "      <td>0.164791</td>\n",
       "      <td>0.078632</td>\n",
       "      <td>-0.089737</td>\n",
       "      <td>-0.097281</td>\n",
       "      <td>0.370024</td>\n",
       "    </tr>\n",
       "    <tr>\n",
       "      <th>Uniformity of Cell Size</th>\n",
       "      <td>0.057426</td>\n",
       "      <td>1.000000</td>\n",
       "      <td>0.661121</td>\n",
       "      <td>-0.014914</td>\n",
       "      <td>0.074590</td>\n",
       "      <td>0.308438</td>\n",
       "      <td>0.305737</td>\n",
       "      <td>0.672217</td>\n",
       "      <td>-0.254183</td>\n",
       "      <td>0.390752</td>\n",
       "    </tr>\n",
       "    <tr>\n",
       "      <th>Uniformity of Cell Shape</th>\n",
       "      <td>0.114786</td>\n",
       "      <td>0.661121</td>\n",
       "      <td>1.000000</td>\n",
       "      <td>-0.189337</td>\n",
       "      <td>0.044897</td>\n",
       "      <td>0.313141</td>\n",
       "      <td>0.133274</td>\n",
       "      <td>0.376572</td>\n",
       "      <td>-0.112124</td>\n",
       "      <td>0.339598</td>\n",
       "    </tr>\n",
       "    <tr>\n",
       "      <th>Marginal Adhesion</th>\n",
       "      <td>-0.359549</td>\n",
       "      <td>-0.014914</td>\n",
       "      <td>-0.189337</td>\n",
       "      <td>1.000000</td>\n",
       "      <td>0.529113</td>\n",
       "      <td>-0.113695</td>\n",
       "      <td>0.078214</td>\n",
       "      <td>-0.124907</td>\n",
       "      <td>-0.054858</td>\n",
       "      <td>0.218200</td>\n",
       "    </tr>\n",
       "    <tr>\n",
       "      <th>Single Epithelial Cell Size</th>\n",
       "      <td>0.121242</td>\n",
       "      <td>0.074590</td>\n",
       "      <td>0.044897</td>\n",
       "      <td>0.529113</td>\n",
       "      <td>1.000000</td>\n",
       "      <td>-0.217398</td>\n",
       "      <td>0.199736</td>\n",
       "      <td>-0.008260</td>\n",
       "      <td>-0.127894</td>\n",
       "      <td>0.173577</td>\n",
       "    </tr>\n",
       "    <tr>\n",
       "      <th>Bare Nuclei</th>\n",
       "      <td>0.164791</td>\n",
       "      <td>0.308438</td>\n",
       "      <td>0.313141</td>\n",
       "      <td>-0.113695</td>\n",
       "      <td>-0.217398</td>\n",
       "      <td>1.000000</td>\n",
       "      <td>0.246228</td>\n",
       "      <td>-0.054177</td>\n",
       "      <td>-0.176605</td>\n",
       "      <td>0.267919</td>\n",
       "    </tr>\n",
       "    <tr>\n",
       "      <th>Bland Chromatin</th>\n",
       "      <td>0.078632</td>\n",
       "      <td>0.305737</td>\n",
       "      <td>0.133274</td>\n",
       "      <td>0.078214</td>\n",
       "      <td>0.199736</td>\n",
       "      <td>0.246228</td>\n",
       "      <td>1.000000</td>\n",
       "      <td>0.078509</td>\n",
       "      <td>-0.170057</td>\n",
       "      <td>0.229693</td>\n",
       "    </tr>\n",
       "    <tr>\n",
       "      <th>Normal Nucleoli</th>\n",
       "      <td>-0.089737</td>\n",
       "      <td>0.672217</td>\n",
       "      <td>0.376572</td>\n",
       "      <td>-0.124907</td>\n",
       "      <td>-0.008260</td>\n",
       "      <td>-0.054177</td>\n",
       "      <td>0.078509</td>\n",
       "      <td>1.000000</td>\n",
       "      <td>-0.195558</td>\n",
       "      <td>0.226330</td>\n",
       "    </tr>\n",
       "    <tr>\n",
       "      <th>Mitoses</th>\n",
       "      <td>-0.097281</td>\n",
       "      <td>-0.254183</td>\n",
       "      <td>-0.112124</td>\n",
       "      <td>-0.054858</td>\n",
       "      <td>-0.127894</td>\n",
       "      <td>-0.176605</td>\n",
       "      <td>-0.170057</td>\n",
       "      <td>-0.195558</td>\n",
       "      <td>1.000000</td>\n",
       "      <td>0.069248</td>\n",
       "    </tr>\n",
       "    <tr>\n",
       "      <th>Class</th>\n",
       "      <td>0.370024</td>\n",
       "      <td>0.390752</td>\n",
       "      <td>0.339598</td>\n",
       "      <td>0.218200</td>\n",
       "      <td>0.173577</td>\n",
       "      <td>0.267919</td>\n",
       "      <td>0.229693</td>\n",
       "      <td>0.226330</td>\n",
       "      <td>0.069248</td>\n",
       "      <td>1.000000</td>\n",
       "    </tr>\n",
       "  </tbody>\n",
       "</table>\n",
       "</div>"
      ],
      "text/plain": [
       "                             Clump Thickness  Uniformity of Cell Size  \\\n",
       "Clump Thickness                     1.000000                 0.057426   \n",
       "Uniformity of Cell Size             0.057426                 1.000000   \n",
       "Uniformity of Cell Shape            0.114786                 0.661121   \n",
       "Marginal Adhesion                  -0.359549                -0.014914   \n",
       "Single Epithelial Cell Size         0.121242                 0.074590   \n",
       "Bare Nuclei                         0.164791                 0.308438   \n",
       "Bland Chromatin                     0.078632                 0.305737   \n",
       "Normal Nucleoli                    -0.089737                 0.672217   \n",
       "Mitoses                            -0.097281                -0.254183   \n",
       "Class                               0.370024                 0.390752   \n",
       "\n",
       "                             Uniformity of Cell Shape  Marginal Adhesion  \\\n",
       "Clump Thickness                              0.114786          -0.359549   \n",
       "Uniformity of Cell Size                      0.661121          -0.014914   \n",
       "Uniformity of Cell Shape                     1.000000          -0.189337   \n",
       "Marginal Adhesion                           -0.189337           1.000000   \n",
       "Single Epithelial Cell Size                  0.044897           0.529113   \n",
       "Bare Nuclei                                  0.313141          -0.113695   \n",
       "Bland Chromatin                              0.133274           0.078214   \n",
       "Normal Nucleoli                              0.376572          -0.124907   \n",
       "Mitoses                                     -0.112124          -0.054858   \n",
       "Class                                        0.339598           0.218200   \n",
       "\n",
       "                             Single Epithelial Cell Size  Bare Nuclei  \\\n",
       "Clump Thickness                                 0.121242     0.164791   \n",
       "Uniformity of Cell Size                         0.074590     0.308438   \n",
       "Uniformity of Cell Shape                        0.044897     0.313141   \n",
       "Marginal Adhesion                               0.529113    -0.113695   \n",
       "Single Epithelial Cell Size                     1.000000    -0.217398   \n",
       "Bare Nuclei                                    -0.217398     1.000000   \n",
       "Bland Chromatin                                 0.199736     0.246228   \n",
       "Normal Nucleoli                                -0.008260    -0.054177   \n",
       "Mitoses                                        -0.127894    -0.176605   \n",
       "Class                                           0.173577     0.267919   \n",
       "\n",
       "                             Bland Chromatin  Normal Nucleoli   Mitoses  \\\n",
       "Clump Thickness                     0.078632        -0.089737 -0.097281   \n",
       "Uniformity of Cell Size             0.305737         0.672217 -0.254183   \n",
       "Uniformity of Cell Shape            0.133274         0.376572 -0.112124   \n",
       "Marginal Adhesion                   0.078214        -0.124907 -0.054858   \n",
       "Single Epithelial Cell Size         0.199736        -0.008260 -0.127894   \n",
       "Bare Nuclei                         0.246228        -0.054177 -0.176605   \n",
       "Bland Chromatin                     1.000000         0.078509 -0.170057   \n",
       "Normal Nucleoli                     0.078509         1.000000 -0.195558   \n",
       "Mitoses                            -0.170057        -0.195558  1.000000   \n",
       "Class                               0.229693         0.226330  0.069248   \n",
       "\n",
       "                                Class  \n",
       "Clump Thickness              0.370024  \n",
       "Uniformity of Cell Size      0.390752  \n",
       "Uniformity of Cell Shape     0.339598  \n",
       "Marginal Adhesion            0.218200  \n",
       "Single Epithelial Cell Size  0.173577  \n",
       "Bare Nuclei                  0.267919  \n",
       "Bland Chromatin              0.229693  \n",
       "Normal Nucleoli              0.226330  \n",
       "Mitoses                      0.069248  \n",
       "Class                        1.000000  "
      ]
     },
     "execution_count": 17,
     "metadata": {},
     "output_type": "execute_result"
    }
   ],
   "source": [
    "# Let see is there any significant correlation among columns\n",
    "df.corr()"
   ]
  },
  {
   "cell_type": "markdown",
   "metadata": {},
   "source": [
    "All of the coef of correlation are low, hence correlation between features is not a problem for this dataset"
   ]
  },
  {
   "cell_type": "code",
   "execution_count": 18,
   "metadata": {},
   "outputs": [
    {
     "data": {
      "text/html": [
       "<div>\n",
       "<style scoped>\n",
       "    .dataframe tbody tr th:only-of-type {\n",
       "        vertical-align: middle;\n",
       "    }\n",
       "\n",
       "    .dataframe tbody tr th {\n",
       "        vertical-align: top;\n",
       "    }\n",
       "\n",
       "    .dataframe thead th {\n",
       "        text-align: right;\n",
       "    }\n",
       "</style>\n",
       "<table border=\"1\" class=\"dataframe\">\n",
       "  <thead>\n",
       "    <tr style=\"text-align: right;\">\n",
       "      <th></th>\n",
       "      <th>Clump Thickness</th>\n",
       "      <th>Uniformity of Cell Size</th>\n",
       "      <th>Uniformity of Cell Shape</th>\n",
       "      <th>Marginal Adhesion</th>\n",
       "      <th>Single Epithelial Cell Size</th>\n",
       "      <th>Bare Nuclei</th>\n",
       "      <th>Bland Chromatin</th>\n",
       "      <th>Normal Nucleoli</th>\n",
       "      <th>Mitoses</th>\n",
       "      <th>Class</th>\n",
       "    </tr>\n",
       "  </thead>\n",
       "  <tbody>\n",
       "    <tr>\n",
       "      <th>count</th>\n",
       "      <td>15620.000000</td>\n",
       "      <td>15620.000000</td>\n",
       "      <td>15620.000000</td>\n",
       "      <td>15620.000000</td>\n",
       "      <td>15620.000000</td>\n",
       "      <td>15620.000000</td>\n",
       "      <td>15620.000000</td>\n",
       "      <td>15620.000000</td>\n",
       "      <td>15620.000000</td>\n",
       "      <td>15620.000000</td>\n",
       "    </tr>\n",
       "    <tr>\n",
       "      <th>mean</th>\n",
       "      <td>7.583099</td>\n",
       "      <td>6.892382</td>\n",
       "      <td>5.622151</td>\n",
       "      <td>5.030090</td>\n",
       "      <td>4.219270</td>\n",
       "      <td>6.466197</td>\n",
       "      <td>4.613060</td>\n",
       "      <td>4.970038</td>\n",
       "      <td>1.663252</td>\n",
       "      <td>0.970807</td>\n",
       "    </tr>\n",
       "    <tr>\n",
       "      <th>std</th>\n",
       "      <td>2.168477</td>\n",
       "      <td>2.470028</td>\n",
       "      <td>2.132975</td>\n",
       "      <td>2.911876</td>\n",
       "      <td>2.096708</td>\n",
       "      <td>3.220150</td>\n",
       "      <td>1.896674</td>\n",
       "      <td>2.818404</td>\n",
       "      <td>1.501705</td>\n",
       "      <td>0.168354</td>\n",
       "    </tr>\n",
       "    <tr>\n",
       "      <th>min</th>\n",
       "      <td>1.000000</td>\n",
       "      <td>1.000000</td>\n",
       "      <td>1.000000</td>\n",
       "      <td>1.000000</td>\n",
       "      <td>1.000000</td>\n",
       "      <td>1.000000</td>\n",
       "      <td>1.000000</td>\n",
       "      <td>1.000000</td>\n",
       "      <td>1.000000</td>\n",
       "      <td>0.000000</td>\n",
       "    </tr>\n",
       "    <tr>\n",
       "      <th>25%</th>\n",
       "      <td>7.000000</td>\n",
       "      <td>5.000000</td>\n",
       "      <td>4.000000</td>\n",
       "      <td>3.000000</td>\n",
       "      <td>3.000000</td>\n",
       "      <td>3.000000</td>\n",
       "      <td>3.000000</td>\n",
       "      <td>3.000000</td>\n",
       "      <td>1.000000</td>\n",
       "      <td>1.000000</td>\n",
       "    </tr>\n",
       "    <tr>\n",
       "      <th>50%</th>\n",
       "      <td>8.000000</td>\n",
       "      <td>6.000000</td>\n",
       "      <td>5.000000</td>\n",
       "      <td>4.000000</td>\n",
       "      <td>4.000000</td>\n",
       "      <td>8.000000</td>\n",
       "      <td>4.000000</td>\n",
       "      <td>5.000000</td>\n",
       "      <td>1.000000</td>\n",
       "      <td>1.000000</td>\n",
       "    </tr>\n",
       "    <tr>\n",
       "      <th>75%</th>\n",
       "      <td>10.000000</td>\n",
       "      <td>10.000000</td>\n",
       "      <td>7.000000</td>\n",
       "      <td>7.000000</td>\n",
       "      <td>4.000000</td>\n",
       "      <td>10.000000</td>\n",
       "      <td>7.000000</td>\n",
       "      <td>8.000000</td>\n",
       "      <td>2.000000</td>\n",
       "      <td>1.000000</td>\n",
       "    </tr>\n",
       "    <tr>\n",
       "      <th>max</th>\n",
       "      <td>10.000000</td>\n",
       "      <td>10.000000</td>\n",
       "      <td>10.000000</td>\n",
       "      <td>10.000000</td>\n",
       "      <td>10.000000</td>\n",
       "      <td>10.000000</td>\n",
       "      <td>10.000000</td>\n",
       "      <td>10.000000</td>\n",
       "      <td>10.000000</td>\n",
       "      <td>1.000000</td>\n",
       "    </tr>\n",
       "  </tbody>\n",
       "</table>\n",
       "</div>"
      ],
      "text/plain": [
       "       Clump Thickness  Uniformity of Cell Size  Uniformity of Cell Shape  \\\n",
       "count     15620.000000             15620.000000              15620.000000   \n",
       "mean          7.583099                 6.892382                  5.622151   \n",
       "std           2.168477                 2.470028                  2.132975   \n",
       "min           1.000000                 1.000000                  1.000000   \n",
       "25%           7.000000                 5.000000                  4.000000   \n",
       "50%           8.000000                 6.000000                  5.000000   \n",
       "75%          10.000000                10.000000                  7.000000   \n",
       "max          10.000000                10.000000                 10.000000   \n",
       "\n",
       "       Marginal Adhesion  Single Epithelial Cell Size   Bare Nuclei  \\\n",
       "count       15620.000000                 15620.000000  15620.000000   \n",
       "mean            5.030090                     4.219270      6.466197   \n",
       "std             2.911876                     2.096708      3.220150   \n",
       "min             1.000000                     1.000000      1.000000   \n",
       "25%             3.000000                     3.000000      3.000000   \n",
       "50%             4.000000                     4.000000      8.000000   \n",
       "75%             7.000000                     4.000000     10.000000   \n",
       "max            10.000000                    10.000000     10.000000   \n",
       "\n",
       "       Bland Chromatin  Normal Nucleoli       Mitoses         Class  \n",
       "count     15620.000000     15620.000000  15620.000000  15620.000000  \n",
       "mean          4.613060         4.970038      1.663252      0.970807  \n",
       "std           1.896674         2.818404      1.501705      0.168354  \n",
       "min           1.000000         1.000000      1.000000      0.000000  \n",
       "25%           3.000000         3.000000      1.000000      1.000000  \n",
       "50%           4.000000         5.000000      1.000000      1.000000  \n",
       "75%           7.000000         8.000000      2.000000      1.000000  \n",
       "max          10.000000        10.000000     10.000000      1.000000  "
      ]
     },
     "execution_count": 18,
     "metadata": {},
     "output_type": "execute_result"
    }
   ],
   "source": [
    "df.describe()"
   ]
  },
  {
   "cell_type": "markdown",
   "metadata": {},
   "source": [
    "Since all the features' value are between 1 and 10, we don't need to scale the data and can proceed directly to model and optimization"
   ]
  },
  {
   "cell_type": "markdown",
   "metadata": {},
   "source": [
    "# Model Selection and Optimization"
   ]
  },
  {
   "cell_type": "code",
   "execution_count": 19,
   "metadata": {},
   "outputs": [],
   "source": [
    "# Splitting the dataset into features and target\n",
    "X = df.iloc[:, 0:9].values\n",
    "y = df.iloc[:, -1].values"
   ]
  },
  {
   "cell_type": "code",
   "execution_count": 20,
   "metadata": {},
   "outputs": [],
   "source": [
    "# Splitting the data into training and test set\n",
    "from sklearn.model_selection import train_test_split\n",
    "X_train, X_test, y_train, y_test = train_test_split(X, y, test_size = 0.25, stratify=y)"
   ]
  },
  {
   "cell_type": "code",
   "execution_count": 21,
   "metadata": {},
   "outputs": [],
   "source": [
    "# Create the collection of models we are going to use\n",
    "def models(X_train,y_train):\n",
    "  \n",
    "  #Using Logistic Regression \n",
    "  from sklearn.linear_model import LogisticRegression\n",
    "  log = LogisticRegression()\n",
    "  log.fit(X_train, y_train)\n",
    "  \n",
    "  #Using KNeighborsClassifier \n",
    "  from sklearn.neighbors import KNeighborsClassifier\n",
    "  knn = KNeighborsClassifier(n_neighbors = 5, metric = 'minkowski', p = 2)\n",
    "  knn.fit(X_train, y_train)\n",
    "\n",
    "  #Using SVC linear\n",
    "  from sklearn.svm import SVC\n",
    "  svc_lin = SVC(kernel = 'linear')\n",
    "  svc_lin.fit(X_train, y_train)\n",
    "\n",
    "  #Using SVC rbf\n",
    "  from sklearn.svm import SVC\n",
    "  svc_rbf = SVC(kernel = 'rbf')\n",
    "  svc_rbf.fit(X_train, y_train)\n",
    "\n",
    "  #Using RandomForestClassifier method of ensemble class to use Random Forest Classification algorithm\n",
    "  from sklearn.ensemble import RandomForestClassifier\n",
    "  forest = RandomForestClassifier(n_estimators = 10, criterion = 'entropy')\n",
    "  forest.fit(X_train, y_train)\n",
    "  \n",
    "  #print model accuracy on the training data.\n",
    "  print('[0]Logistic Regression Training Accuracy:', log.score(X_train, y_train))\n",
    "  print('[1]K Nearest Neighbor Training Accuracy:', knn.score(X_train, y_train))\n",
    "  print('[2]Support Vector Machine (Linear Classifier) Training Accuracy:', svc_lin.score(X_train, y_train))\n",
    "  print('[3]Support Vector Machine (RBF Classifier) Training Accuracy:', svc_rbf.score(X_train, y_train))\n",
    "  print('[4]Random Forest Classifier Training Accuracy:', forest.score(X_train, y_train))\n",
    "  \n",
    "  return log, knn, svc_lin, svc_rbf, forest"
   ]
  },
  {
   "cell_type": "code",
   "execution_count": 22,
   "metadata": {},
   "outputs": [
    {
     "name": "stdout",
     "output_type": "stream",
     "text": [
      "[0]Logistic Regression Training Accuracy: 0.998719590268886\n",
      "[1]K Nearest Neighbor Training Accuracy: 0.9992317541613316\n",
      "[2]Support Vector Machine (Linear Classifier) Training Accuracy: 0.9986342296201451\n",
      "[3]Support Vector Machine (RBF Classifier) Training Accuracy: 0.998804950917627\n",
      "[4]Random Forest Classifier Training Accuracy: 0.9996585574050363\n"
     ]
    }
   ],
   "source": [
    "# Fit and report the accuracy of the models\n",
    "model = models(X_train,y_train)"
   ]
  },
  {
   "cell_type": "code",
   "execution_count": 23,
   "metadata": {},
   "outputs": [
    {
     "name": "stdout",
     "output_type": "stream",
     "text": [
      "Model  Logistic Regression\n",
      "              precision    recall  f1-score   support\n",
      "\n",
      "         0.0       0.97      0.96      0.97       114\n",
      "         1.0       1.00      1.00      1.00      3791\n",
      "\n",
      "    accuracy                           1.00      3905\n",
      "   macro avg       0.99      0.98      0.98      3905\n",
      "weighted avg       1.00      1.00      1.00      3905\n",
      "\n",
      "0.9982074263764404\n",
      "\n",
      "Model  K Nearest Neighbor\n",
      "              precision    recall  f1-score   support\n",
      "\n",
      "         0.0       0.98      0.96      0.97       114\n",
      "         1.0       1.00      1.00      1.00      3791\n",
      "\n",
      "    accuracy                           1.00      3905\n",
      "   macro avg       0.99      0.98      0.99      3905\n",
      "weighted avg       1.00      1.00      1.00      3905\n",
      "\n",
      "0.9984635083226633\n",
      "\n",
      "Model  Linear SVC\n",
      "              precision    recall  f1-score   support\n",
      "\n",
      "         0.0       0.98      0.97      0.98       114\n",
      "         1.0       1.00      1.00      1.00      3791\n",
      "\n",
      "    accuracy                           1.00      3905\n",
      "   macro avg       0.99      0.99      0.99      3905\n",
      "weighted avg       1.00      1.00      1.00      3905\n",
      "\n",
      "0.998719590268886\n",
      "\n",
      "Model  SVC\n",
      "              precision    recall  f1-score   support\n",
      "\n",
      "         0.0       0.98      0.97      0.98       114\n",
      "         1.0       1.00      1.00      1.00      3791\n",
      "\n",
      "    accuracy                           1.00      3905\n",
      "   macro avg       0.99      0.99      0.99      3905\n",
      "weighted avg       1.00      1.00      1.00      3905\n",
      "\n",
      "0.998719590268886\n",
      "\n",
      "Model  Random Forest\n",
      "              precision    recall  f1-score   support\n",
      "\n",
      "         0.0       0.96      0.96      0.96       114\n",
      "         1.0       1.00      1.00      1.00      3791\n",
      "\n",
      "    accuracy                           1.00      3905\n",
      "   macro avg       0.98      0.98      0.98      3905\n",
      "weighted avg       1.00      1.00      1.00      3905\n",
      "\n",
      "0.9979513444302177\n",
      "\n"
     ]
    }
   ],
   "source": [
    "# Another detail look of the performance of these models\n",
    "from sklearn.metrics import classification_report\n",
    "from sklearn.metrics import accuracy_score\n",
    "\n",
    "classifiers = ['Logistic Regression', 'K Nearest Neighbor', 'Linear SVC', 'SVC', 'Random Forest']\n",
    "\n",
    "for i, j in zip(range(len(model)), classifiers):\n",
    "  print('Model ', j)\n",
    "  #Check precision, recall, f1-score\n",
    "  print( classification_report(y_test, model[i].predict(X_test)) )\n",
    "  #Another way to get the models accuracy on the test data\n",
    "  print( accuracy_score(y_test, model[i].predict(X_test)))\n",
    "  print()#Print a new line"
   ]
  },
  {
   "cell_type": "markdown",
   "metadata": {},
   "source": [
    "We can see that all of the models perform really well on this dataset, we will go with logistic regression for futher interpretation of the model"
   ]
  },
  {
   "cell_type": "markdown",
   "metadata": {},
   "source": [
    "## Logistic regression and feature selection"
   ]
  },
  {
   "cell_type": "code",
   "execution_count": 24,
   "metadata": {},
   "outputs": [],
   "source": [
    "from sklearn.linear_model import LogisticRegression\n",
    "\n",
    "# Specify L1 regularization\n",
    "lr = LogisticRegression(penalty='l1', solver='liblinear')"
   ]
  },
  {
   "cell_type": "code",
   "execution_count": 25,
   "metadata": {},
   "outputs": [
    {
     "data": {
      "text/plain": [
       "GridSearchCV(cv=None, error_score=nan,\n",
       "             estimator=LogisticRegression(C=1.0, class_weight=None, dual=False,\n",
       "                                          fit_intercept=True,\n",
       "                                          intercept_scaling=1, l1_ratio=None,\n",
       "                                          max_iter=100, multi_class='auto',\n",
       "                                          n_jobs=None, penalty='l1',\n",
       "                                          random_state=None, solver='liblinear',\n",
       "                                          tol=0.0001, verbose=0,\n",
       "                                          warm_start=False),\n",
       "             iid='deprecated', n_jobs=None,\n",
       "             param_grid={'C': [0.001, 0.01, 0.1, 1, 10]},\n",
       "             pre_dispatch='2*n_jobs', refit=True, return_train_score=False,\n",
       "             scoring=None, verbose=0)"
      ]
     },
     "execution_count": 25,
     "metadata": {},
     "output_type": "execute_result"
    }
   ],
   "source": [
    "from sklearn.model_selection import GridSearchCV\n",
    "\n",
    "# Instantiate the GridSearchCV object and run the search\n",
    "searcher = GridSearchCV(lr, {'C': [0.001, 0.01, 0.1, 1, 10]})\n",
    "searcher.fit(X_train, y_train)"
   ]
  },
  {
   "cell_type": "code",
   "execution_count": 26,
   "metadata": {},
   "outputs": [
    {
     "name": "stdout",
     "output_type": "stream",
     "text": [
      "Best CV params {'C': 1}\n"
     ]
    }
   ],
   "source": [
    "# Report the best parameters\n",
    "print(\"Best CV params\", searcher.best_params_)"
   ]
  },
  {
   "cell_type": "code",
   "execution_count": 27,
   "metadata": {},
   "outputs": [
    {
     "name": "stdout",
     "output_type": "stream",
     "text": [
      "Total number of features: 9\n",
      "Number of selected features:  9\n"
     ]
    }
   ],
   "source": [
    "# Find the number of nonzero coefficients (selected features)\n",
    "best_lr = searcher.best_estimator_\n",
    "coefs = best_lr.coef_\n",
    "print(\"Total number of features:\", coefs.size)\n",
    "print(\"Number of selected features: \", np.count_nonzero(coefs))"
   ]
  },
  {
   "cell_type": "code",
   "execution_count": 28,
   "metadata": {},
   "outputs": [
    {
     "data": {
      "image/png": "[encoded data removed]",
      "text/plain": [
       "<Figure size 432x288 with 1 Axes>"
      ]
     },
     "metadata": {
      "needs_background": "light"
     },
     "output_type": "display_data"
    }
   ],
   "source": [
    "from sklearn import metrics\n",
    "import matplotlib.pyplot as plt\n",
    "import seaborn as sns\n",
    "%matplotlib inline\n",
    "\n",
    "y_pred_proba = searcher.predict_proba(X_test)[::,1]\n",
    "fpr, tpr, _ = metrics.roc_curve(y_test,  y_pred_proba)\n",
    "auc = metrics.roc_auc_score(y_test, y_pred_proba)\n",
    "plt.plot(fpr,tpr,label=\"data 1, auc=\"+str(auc))\n",
    "plt.legend(loc=4)\n",
    "plt.show()"
   ]
  },
  {
   "cell_type": "code",
   "execution_count": 29,
   "metadata": {},
   "outputs": [],
   "source": [
    "df1 = pd.DataFrame( df.columns[0:9].to_list(), coefs.tolist())"
   ]
  },
  {
   "cell_type": "code",
   "execution_count": 30,
   "metadata": {},
   "outputs": [],
   "source": [
    "df1 = df1.reset_index().sort_values(by='level_0', ascending=False)"
   ]
  },
  {
   "cell_type": "code",
   "execution_count": 31,
   "metadata": {},
   "outputs": [
    {
     "data": {
      "text/html": [
       "<div>\n",
       "<style scoped>\n",
       "    .dataframe tbody tr th:only-of-type {\n",
       "        vertical-align: middle;\n",
       "    }\n",
       "\n",
       "    .dataframe tbody tr th {\n",
       "        vertical-align: top;\n",
       "    }\n",
       "\n",
       "    .dataframe thead th {\n",
       "        text-align: right;\n",
       "    }\n",
       "</style>\n",
       "<table border=\"1\" class=\"dataframe\">\n",
       "  <thead>\n",
       "    <tr style=\"text-align: right;\">\n",
       "      <th></th>\n",
       "      <th>Values</th>\n",
       "      <th>Features</th>\n",
       "    </tr>\n",
       "  </thead>\n",
       "  <tbody>\n",
       "    <tr>\n",
       "      <th>8</th>\n",
       "      <td>0.826425</td>\n",
       "      <td>Mitoses</td>\n",
       "    </tr>\n",
       "    <tr>\n",
       "      <th>1</th>\n",
       "      <td>0.822506</td>\n",
       "      <td>Uniformity of Cell Size</td>\n",
       "    </tr>\n",
       "    <tr>\n",
       "      <th>3</th>\n",
       "      <td>0.659015</td>\n",
       "      <td>Marginal Adhesion</td>\n",
       "    </tr>\n",
       "    <tr>\n",
       "      <th>0</th>\n",
       "      <td>0.649729</td>\n",
       "      <td>Clump Thickness</td>\n",
       "    </tr>\n",
       "    <tr>\n",
       "      <th>5</th>\n",
       "      <td>0.458915</td>\n",
       "      <td>Bare Nuclei</td>\n",
       "    </tr>\n",
       "    <tr>\n",
       "      <th>2</th>\n",
       "      <td>0.227912</td>\n",
       "      <td>Uniformity of Cell Shape</td>\n",
       "    </tr>\n",
       "    <tr>\n",
       "      <th>6</th>\n",
       "      <td>0.147055</td>\n",
       "      <td>Bland Chromatin</td>\n",
       "    </tr>\n",
       "    <tr>\n",
       "      <th>7</th>\n",
       "      <td>0.074080</td>\n",
       "      <td>Normal Nucleoli</td>\n",
       "    </tr>\n",
       "    <tr>\n",
       "      <th>4</th>\n",
       "      <td>-0.145690</td>\n",
       "      <td>Single Epithelial Cell Size</td>\n",
       "    </tr>\n",
       "  </tbody>\n",
       "</table>\n",
       "</div>"
      ],
      "text/plain": [
       "     Values                     Features\n",
       "8  0.826425                      Mitoses\n",
       "1  0.822506      Uniformity of Cell Size\n",
       "3  0.659015            Marginal Adhesion\n",
       "0  0.649729              Clump Thickness\n",
       "5  0.458915                  Bare Nuclei\n",
       "2  0.227912     Uniformity of Cell Shape\n",
       "6  0.147055              Bland Chromatin\n",
       "7  0.074080              Normal Nucleoli\n",
       "4 -0.145690  Single Epithelial Cell Size"
      ]
     },
     "execution_count": 31,
     "metadata": {},
     "output_type": "execute_result"
    }
   ],
   "source": [
    "df1.columns = ['Values', 'Features']\n",
    "df1"
   ]
  },
  {
   "cell_type": "code",
   "execution_count": 33,
   "metadata": {},
   "outputs": [
    {
     "name": "stdout",
     "output_type": "stream",
     "text": [
      "Index(['Uniformity of Cell Size'], dtype='object')\n",
      "0.9948783610755442\n",
      "Index(['Uniformity of Cell Size', 'Mitoses'], dtype='object')\n",
      "0.9948783610755442\n",
      "Index(['Clump Thickness', 'Uniformity of Cell Size', 'Mitoses'], dtype='object')\n",
      "0.9964148527528809\n",
      "Index(['Clump Thickness', 'Uniformity of Cell Size', 'Marginal Adhesion',\n",
      "       'Mitoses'],\n",
      "      dtype='object')\n",
      "0.9976952624839949\n",
      "Index(['Clump Thickness', 'Uniformity of Cell Size', 'Marginal Adhesion',\n",
      "       'Bare Nuclei', 'Mitoses'],\n",
      "      dtype='object')\n",
      "0.9982074263764404\n",
      "Index(['Clump Thickness', 'Uniformity of Cell Size',\n",
      "       'Uniformity of Cell Shape', 'Marginal Adhesion', 'Bare Nuclei',\n",
      "       'Mitoses'],\n",
      "      dtype='object')\n",
      "0.9982074263764404\n",
      "Index(['Clump Thickness', 'Uniformity of Cell Size',\n",
      "       'Uniformity of Cell Shape', 'Marginal Adhesion', 'Bare Nuclei',\n",
      "       'Bland Chromatin', 'Mitoses'],\n",
      "      dtype='object')\n",
      "0.9984635083226633\n",
      "Index(['Clump Thickness', 'Uniformity of Cell Size',\n",
      "       'Uniformity of Cell Shape', 'Marginal Adhesion',\n",
      "       'Single Epithelial Cell Size', 'Bare Nuclei', 'Bland Chromatin',\n",
      "       'Mitoses'],\n",
      "      dtype='object')\n",
      "0.9982074263764404\n",
      "Index(['Clump Thickness', 'Uniformity of Cell Size',\n",
      "       'Uniformity of Cell Shape', 'Marginal Adhesion',\n",
      "       'Single Epithelial Cell Size', 'Bare Nuclei', 'Bland Chromatin',\n",
      "       'Normal Nucleoli', 'Mitoses'],\n",
      "      dtype='object')\n",
      "0.9982074263764404\n"
     ]
    }
   ],
   "source": [
    "from sklearn.feature_selection import RFE\n",
    "\n",
    "# Feature selection with Logistic Regression\n",
    "for i in range(9):\n",
    "    rfe = RFE(estimator=LogisticRegression(), n_features_to_select=(i+1))\n",
    "    rfe.fit(X_train, y_train)\n",
    "    print(df.iloc[:, 0:9].columns[rfe.support_])\n",
    "    print(accuracy_score(y_test, rfe.predict(X_test)))"
   ]
  },
  {
   "cell_type": "markdown",
   "metadata": {},
   "source": [
    "# Summary"
   ]
  },
  {
   "cell_type": "markdown",
   "metadata": {},
   "source": [
    "From the above accucary report, the LR able to predict 100% accurately a patient who has breast cancer or not. The doctor can use LR model to predict the probability of a patient who has breast cancer or not with great confidence."
   ]
  },
  {
   "cell_type": "markdown",
   "metadata": {},
   "source": [
    "Mitoses is the features of a cell that is the largest drivers of malignancy, however Clump Thickness, Uniformity of Cell Size and Marginal Adhesion are also important"
   ]
  },
  {
   "cell_type": "markdown",
   "metadata": {},
   "source": [
    "If we are limitted by time and money, the collectin of just 7 cell features: 'Clump Thickness', 'Uniformity of Cell Size',\n",
    "       'Uniformity of Cell Shape', 'Marginal Adhesion', 'Bare Nuclei',\n",
    "       'Bland Chromatin', 'Mitoses' will give us the highest accuracy "
   ]
  },
  {
   "cell_type": "markdown",
   "metadata": {},
   "source": [
    "Or with a tiny forego of accuracy from 0.998 to 0.994, we can just use 2 cell features 'Uniformity of Cell Size' and 'Mitoses'"
   ]
  }
 ],
 "metadata": {
  "kernelspec": {
   "display_name": "Python 3",
   "language": "python",
   "name": "python3"
  },
  "language_info": {
   "codemirror_mode": {
    "name": "ipython",
    "version": 3
   },
   "file_extension": ".py",
   "mimetype": "text/x-python",
   "name": "python",
   "nbconvert_exporter": "python",
   "pygments_lexer": "ipython3",
   "version": "3.7.7"
  }
 },
 "nbformat": 4,
 "nbformat_minor": 4
}
